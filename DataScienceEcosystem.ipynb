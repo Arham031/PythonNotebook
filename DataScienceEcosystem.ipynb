{
 "cells": [
  {
   "cell_type": "markdown",
   "id": "4a52b2b4",
   "metadata": {},
   "source": [
    "# Data Science Tools and Ecosystem"
   ]
  },
  {
   "cell_type": "markdown",
   "id": "faef3acd",
   "metadata": {},
   "source": [
    "This notebook is focused on exploring various data science tools and the broader ecosystem surrounding them, providing insights into their usage and capabilities."
   ]
  },
  {
   "cell_type": "markdown",
   "id": "c9cf117c",
   "metadata": {},
   "source": [
    "Some of the popular languages that Data Scientists use are:\n",
    "\n",
    "1. Python\n",
    "2. R\n",
    "3. SQL"
   ]
  },
  {
   "cell_type": "markdown",
   "id": "63e46bc6",
   "metadata": {},
   "source": [
    "Some of the commonly used libraries used by Data Scientists include:\n",
    "\n",
    "1. NumPy\n",
    "2. Pandas\n",
    "3. Matplotlib\n",
    "4. TensorFlow\n",
    "5. Scikit-learn"
   ]
  },
  {
   "cell_type": "markdown",
   "id": "b823b386",
   "metadata": {},
   "source": [
    "Data Science Tools\n",
    "\n",
    "Jupyter Notebook\n",
    "RStudio\n",
    "Spyder"
   ]
  },
  {
   "cell_type": "markdown",
   "id": "6b58b85f",
   "metadata": {},
   "source": [
    "### Examples of evaluating arithmetic expressions in Python\n",
    "\n",
    "The following examples show how to evaluate arithmetic expressions in Python using basic operators like addition, subtraction, multiplication, and division."
   ]
  },
  {
   "cell_type": "code",
   "execution_count": 1,
   "id": "d47652b6",
   "metadata": {},
   "outputs": [
    {
     "name": "stdout",
     "output_type": "stream",
     "text": [
      "17\n"
     ]
    }
   ],
   "source": [
    "print((3*4)+5)"
   ]
  },
  {
   "cell_type": "code",
   "execution_count": 2,
   "id": "f07cd134",
   "metadata": {},
   "outputs": [
    {
     "name": "stdout",
     "output_type": "stream",
     "text": [
      "3.3333333333333335\n"
     ]
    }
   ],
   "source": [
    "total_minutes = 200\n",
    "minutes_in_hours = 60\n",
    "hours = total_minutes/minutes_in_hours\n",
    "print(hours)"
   ]
  },
  {
   "cell_type": "markdown",
   "id": "bf29b9d4",
   "metadata": {},
   "source": [
    "**Objectives:**\n",
    "\n",
    "- List popular languages for Data Science\n",
    "- Explain the differences between supervised and unsupervised learning\n",
    "- Show examples of data visualization using Python\n"
   ]
  },
  {
   "cell_type": "markdown",
   "id": "2043a5b3",
   "metadata": {},
   "source": [
    "## Author\n",
    "\n",
    "Muhammad Arham"
   ]
  },
  {
   "cell_type": "code",
   "execution_count": null,
   "id": "20d069c8",
   "metadata": {},
   "outputs": [],
   "source": []
  }
 ],
 "metadata": {
  "kernelspec": {
   "display_name": "Python 3 (ipykernel)",
   "language": "python",
   "name": "python3"
  },
  "language_info": {
   "codemirror_mode": {
    "name": "ipython",
    "version": 3
   },
   "file_extension": ".py",
   "mimetype": "text/x-python",
   "name": "python",
   "nbconvert_exporter": "python",
   "pygments_lexer": "ipython3",
   "version": "3.10.9"
  }
 },
 "nbformat": 4,
 "nbformat_minor": 5
}
